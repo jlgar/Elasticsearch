{
 "cells": [
  {
   "cell_type": "code",
   "execution_count": 335,
   "id": "af9e2ac2",
   "metadata": {},
   "outputs": [],
   "source": [
    "import pandas as pd\n",
    "import csv\n",
    "import json\n",
    "import elasticsearch"
   ]
  },
  {
   "cell_type": "code",
   "execution_count": 336,
   "id": "3e2097d9",
   "metadata": {},
   "outputs": [
    {
     "data": {
      "text/plain": [
       "True"
      ]
     },
     "execution_count": 336,
     "metadata": {},
     "output_type": "execute_result"
    }
   ],
   "source": [
    "#confirm connection to elasticsearch (running in docker)\n",
    "es = Elasticsearch(\n",
    "    hosts=[\n",
    "            \"https://localhost:9200\"\n",
    "    ],\n",
    "    basic_auth=(\"elastic\", \"Cu58a5GaVEavNXPpPAZS\"),\n",
    "    \n",
    "    verify_certs=True,\n",
    "    ca_certs=\"./http_ca.crt\",\n",
    ")\n",
    "es.ping()"
   ]
  },
  {
   "cell_type": "code",
   "execution_count": 208,
   "id": "15f0c0fc",
   "metadata": {
    "scrolled": true
   },
   "outputs": [
    {
     "data": {
      "text/plain": [
       "ObjectApiResponse({'name': '4bfe196979f0', 'cluster_name': 'docker-cluster', 'cluster_uuid': 'jNku1f3eRm2S4WMcC1TB7g', 'version': {'number': '8.11.1', 'build_flavor': 'default', 'build_type': 'docker', 'build_hash': '6f9ff581fbcde658e6f69d6ce03050f060d1fd0c', 'build_date': '2023-11-11T10:05:59.421038163Z', 'build_snapshot': False, 'lucene_version': '9.8.0', 'minimum_wire_compatibility_version': '7.17.0', 'minimum_index_compatibility_version': '7.0.0'}, 'tagline': 'You Know, for Search'})"
      ]
     },
     "execution_count": 208,
     "metadata": {},
     "output_type": "execute_result"
    }
   ],
   "source": [
    "es.info()"
   ]
  },
  {
   "cell_type": "code",
   "execution_count": 274,
   "id": "760c5885",
   "metadata": {},
   "outputs": [
    {
     "name": "stdout",
     "output_type": "stream",
     "text": [
      "(614, 13)\n",
      "(367, 12)\n"
     ]
    }
   ],
   "source": [
    "#get data\n",
    "trainPath = '/Users/jamester/Documents/DataAnalysis/ELK/LoanTrain.csv'\n",
    "testPath = '/Users/jamester/Documents/DataAnalysis/ELK/LoanTest.csv'\n",
    "\n",
    "train = pd.read_csv(trainPath); print(train.shape)\n",
    "test = pd.read_csv(testPath); print(test.shape)"
   ]
  },
  {
   "cell_type": "code",
   "execution_count": 275,
   "id": "f61b4d59",
   "metadata": {
    "scrolled": true
   },
   "outputs": [
    {
     "data": {
      "text/html": [
       "<div>\n",
       "<style scoped>\n",
       "    .dataframe tbody tr th:only-of-type {\n",
       "        vertical-align: middle;\n",
       "    }\n",
       "\n",
       "    .dataframe tbody tr th {\n",
       "        vertical-align: top;\n",
       "    }\n",
       "\n",
       "    .dataframe thead th {\n",
       "        text-align: right;\n",
       "    }\n",
       "</style>\n",
       "<table border=\"1\" class=\"dataframe\">\n",
       "  <thead>\n",
       "    <tr style=\"text-align: right;\">\n",
       "      <th></th>\n",
       "      <th>Loan_ID</th>\n",
       "      <th>Gender</th>\n",
       "      <th>Married</th>\n",
       "      <th>Dependents</th>\n",
       "      <th>Education</th>\n",
       "      <th>Self_Employed</th>\n",
       "      <th>ApplicantIncome</th>\n",
       "      <th>CoapplicantIncome</th>\n",
       "      <th>LoanAmount</th>\n",
       "      <th>Loan_Amount_Term</th>\n",
       "      <th>Credit_History</th>\n",
       "      <th>Property_Area</th>\n",
       "      <th>Loan_Status</th>\n",
       "    </tr>\n",
       "  </thead>\n",
       "  <tbody>\n",
       "    <tr>\n",
       "      <th>0</th>\n",
       "      <td>LP001002</td>\n",
       "      <td>Male</td>\n",
       "      <td>No</td>\n",
       "      <td>0</td>\n",
       "      <td>Graduate</td>\n",
       "      <td>No</td>\n",
       "      <td>5849</td>\n",
       "      <td>0.0</td>\n",
       "      <td>NaN</td>\n",
       "      <td>360.0</td>\n",
       "      <td>1.0</td>\n",
       "      <td>Urban</td>\n",
       "      <td>Y</td>\n",
       "    </tr>\n",
       "    <tr>\n",
       "      <th>1</th>\n",
       "      <td>LP001003</td>\n",
       "      <td>Male</td>\n",
       "      <td>Yes</td>\n",
       "      <td>1</td>\n",
       "      <td>Graduate</td>\n",
       "      <td>No</td>\n",
       "      <td>4583</td>\n",
       "      <td>1508.0</td>\n",
       "      <td>128.0</td>\n",
       "      <td>360.0</td>\n",
       "      <td>1.0</td>\n",
       "      <td>Rural</td>\n",
       "      <td>N</td>\n",
       "    </tr>\n",
       "    <tr>\n",
       "      <th>2</th>\n",
       "      <td>LP001005</td>\n",
       "      <td>Male</td>\n",
       "      <td>Yes</td>\n",
       "      <td>0</td>\n",
       "      <td>Graduate</td>\n",
       "      <td>Yes</td>\n",
       "      <td>3000</td>\n",
       "      <td>0.0</td>\n",
       "      <td>66.0</td>\n",
       "      <td>360.0</td>\n",
       "      <td>1.0</td>\n",
       "      <td>Urban</td>\n",
       "      <td>Y</td>\n",
       "    </tr>\n",
       "    <tr>\n",
       "      <th>3</th>\n",
       "      <td>LP001006</td>\n",
       "      <td>Male</td>\n",
       "      <td>Yes</td>\n",
       "      <td>0</td>\n",
       "      <td>Not Graduate</td>\n",
       "      <td>No</td>\n",
       "      <td>2583</td>\n",
       "      <td>2358.0</td>\n",
       "      <td>120.0</td>\n",
       "      <td>360.0</td>\n",
       "      <td>1.0</td>\n",
       "      <td>Urban</td>\n",
       "      <td>Y</td>\n",
       "    </tr>\n",
       "    <tr>\n",
       "      <th>4</th>\n",
       "      <td>LP001008</td>\n",
       "      <td>Male</td>\n",
       "      <td>No</td>\n",
       "      <td>0</td>\n",
       "      <td>Graduate</td>\n",
       "      <td>No</td>\n",
       "      <td>6000</td>\n",
       "      <td>0.0</td>\n",
       "      <td>141.0</td>\n",
       "      <td>360.0</td>\n",
       "      <td>1.0</td>\n",
       "      <td>Urban</td>\n",
       "      <td>Y</td>\n",
       "    </tr>\n",
       "  </tbody>\n",
       "</table>\n",
       "</div>"
      ],
      "text/plain": [
       "    Loan_ID Gender Married Dependents     Education Self_Employed  \\\n",
       "0  LP001002   Male      No          0      Graduate            No   \n",
       "1  LP001003   Male     Yes          1      Graduate            No   \n",
       "2  LP001005   Male     Yes          0      Graduate           Yes   \n",
       "3  LP001006   Male     Yes          0  Not Graduate            No   \n",
       "4  LP001008   Male      No          0      Graduate            No   \n",
       "\n",
       "   ApplicantIncome  CoapplicantIncome  LoanAmount  Loan_Amount_Term  \\\n",
       "0             5849                0.0         NaN             360.0   \n",
       "1             4583             1508.0       128.0             360.0   \n",
       "2             3000                0.0        66.0             360.0   \n",
       "3             2583             2358.0       120.0             360.0   \n",
       "4             6000                0.0       141.0             360.0   \n",
       "\n",
       "   Credit_History Property_Area Loan_Status  \n",
       "0             1.0         Urban           Y  \n",
       "1             1.0         Rural           N  \n",
       "2             1.0         Urban           Y  \n",
       "3             1.0         Urban           Y  \n",
       "4             1.0         Urban           Y  "
      ]
     },
     "execution_count": 275,
     "metadata": {},
     "output_type": "execute_result"
    }
   ],
   "source": [
    "train.head(\n",
    ")"
   ]
  },
  {
   "cell_type": "code",
   "execution_count": 276,
   "id": "93361a61",
   "metadata": {},
   "outputs": [
    {
     "data": {
      "text/plain": [
       "(614, 13)"
      ]
     },
     "execution_count": 276,
     "metadata": {},
     "output_type": "execute_result"
    }
   ],
   "source": [
    "train.shape"
   ]
  },
  {
   "cell_type": "code",
   "execution_count": 277,
   "id": "eb40a2fc",
   "metadata": {
    "scrolled": true
   },
   "outputs": [
    {
     "name": "stdout",
     "output_type": "stream",
     "text": [
      "<class 'pandas.core.frame.DataFrame'>\n",
      "RangeIndex: 614 entries, 0 to 613\n",
      "Data columns (total 13 columns):\n",
      " #   Column             Non-Null Count  Dtype  \n",
      "---  ------             --------------  -----  \n",
      " 0   Loan_ID            614 non-null    object \n",
      " 1   Gender             601 non-null    object \n",
      " 2   Married            611 non-null    object \n",
      " 3   Dependents         599 non-null    object \n",
      " 4   Education          614 non-null    object \n",
      " 5   Self_Employed      582 non-null    object \n",
      " 6   ApplicantIncome    614 non-null    int64  \n",
      " 7   CoapplicantIncome  614 non-null    float64\n",
      " 8   LoanAmount         592 non-null    float64\n",
      " 9   Loan_Amount_Term   600 non-null    float64\n",
      " 10  Credit_History     564 non-null    float64\n",
      " 11  Property_Area      614 non-null    object \n",
      " 12  Loan_Status        614 non-null    object \n",
      "dtypes: float64(4), int64(1), object(8)\n",
      "memory usage: 62.5+ KB\n"
     ]
    }
   ],
   "source": [
    "train.info()"
   ]
  },
  {
   "cell_type": "code",
   "execution_count": 325,
   "id": "b77ec557",
   "metadata": {},
   "outputs": [],
   "source": [
    "mappings = {'properties': {\n",
    "            'Loan_ID': {'type':'keyword'},\n",
    "            'Gender': {'type':'keyword'},\n",
    "            'Married': {'type':'keyword'},\n",
    "            'Dependents':{'type':'keyword'},\n",
    "            'Education': {'type':'keyword'},\n",
    "            'Self_Employed':{'type':'keyword'},\n",
    "            'ApplicantIncome': {'type':'float'},\n",
    "            'CoapplicantIncome': {'type':'float'},\n",
    "            'LoanAmount': {'type':'float'},\n",
    "            'Loan_Amount_Term': {'type':'float'},\n",
    "            'Credit_History': {'type':'float'},\n",
    "            'Property_Area':{'type':'keyword'},\n",
    "            'Loan_Status':{'type':'keyword'} \n",
    "        }\n",
    "}"
   ]
  },
  {
   "cell_type": "code",
   "execution_count": 326,
   "id": "71963005",
   "metadata": {
    "scrolled": true
   },
   "outputs": [
    {
     "data": {
      "text/plain": [
       "ObjectApiResponse({'acknowledged': True, 'shards_acknowledged': True, 'index': 'loan_data'})"
      ]
     },
     "execution_count": 326,
     "metadata": {},
     "output_type": "execute_result"
    }
   ],
   "source": [
    "#create an index to load the docs to\n",
    "es.indices.create(index='loan_data', mappings=mappings)"
   ]
  },
  {
   "cell_type": "code",
   "execution_count": 327,
   "id": "ff6396ab",
   "metadata": {},
   "outputs": [],
   "source": [
    "#convert csv to list of dicts\n",
    "csv_file = open(trainPath, 'r')\n",
    "csv_reader = csv.reader(csv_file)"
   ]
  },
  {
   "cell_type": "code",
   "execution_count": 328,
   "id": "d1cc64f5",
   "metadata": {
    "scrolled": true
   },
   "outputs": [
    {
     "name": "stdout",
     "output_type": "stream",
     "text": [
      "['Loan_ID', 'Gender', 'Married', 'Dependents', 'Education', 'Self_Employed', 'ApplicantIncome', 'CoapplicantIncome', 'LoanAmount', 'Loan_Amount_Term', 'Credit_History', 'Property_Area', 'Loan_Status']\n"
     ]
    }
   ],
   "source": [
    "field_names = next(csv_reader)\n",
    "print(field_names)"
   ]
  },
  {
   "cell_type": "code",
   "execution_count": 329,
   "id": "88c7541e",
   "metadata": {},
   "outputs": [],
   "source": [
    "data = []\n",
    "for row in csv_reader:\n",
    "    data.append(dict(zip(field_names, row)))"
   ]
  },
  {
   "cell_type": "code",
   "execution_count": 330,
   "id": "2da58f50",
   "metadata": {
    "scrolled": true
   },
   "outputs": [
    {
     "name": "stdout",
     "output_type": "stream",
     "text": [
      "<class 'list'>\n",
      "[{'Loan_ID': 'LP001002', 'Gender': 'Male', 'Married': 'No', 'Dependents': '0', 'Education': 'Graduate', 'Self_Employed': 'No', 'ApplicantIncome': '5849', 'CoapplicantIncome': '0', 'LoanAmount': '', 'Loan_Amount_Term': '360', 'Credit_History': '1', 'Property_Area': 'Urban', 'Loan_Status': 'Y'}, {'Loan_ID': 'LP001003', 'Gender': 'Male', 'Married': 'Yes', 'Dependents': '1', 'Education': 'Graduate', 'Self_Employed': 'No', 'ApplicantIncome': '4583', 'CoapplicantIncome': '1508', 'LoanAmount': '128', 'Loan_Amount_Term': '360', 'Credit_History': '1', 'Property_Area': 'Rural', 'Loan_Status': 'N'}, {'Loan_ID': 'LP001005', 'Gender': 'Male', 'Married': 'Yes', 'Dependents': '0', 'Education': 'Graduate', 'Self_Employed': 'Yes', 'ApplicantIncome': '3000', 'CoapplicantIncome': '0', 'LoanAmount': '66', 'Loan_Amount_Term': '360', 'Credit_History': '1', 'Property_Area': 'Urban', 'Loan_Status': 'Y'}, {'Loan_ID': 'LP001006', 'Gender': 'Male', 'Married': 'Yes', 'Dependents': '0', 'Education': 'Not Graduate', 'Self_Employed': 'No', 'ApplicantIncome': '2583', 'CoapplicantIncome': '2358', 'LoanAmount': '120', 'Loan_Amount_Term': '360', 'Credit_History': '1', 'Property_Area': 'Urban', 'Loan_Status': 'Y'}, {'Loan_ID': 'LP001008', 'Gender': 'Male', 'Married': 'No', 'Dependents': '0', 'Education': 'Graduate', 'Self_Employed': 'No', 'ApplicantIncome': '6000', 'CoapplicantIncome': '0', 'LoanAmount': '141', 'Loan_Amount_Term': '360', 'Credit_History': '1', 'Property_Area': 'Urban', 'Loan_Status': 'Y'}]\n"
     ]
    }
   ],
   "source": [
    "print(type(data))\n",
    "print(data[0:5])"
   ]
  },
  {
   "cell_type": "code",
   "execution_count": 331,
   "id": "39b8f558",
   "metadata": {},
   "outputs": [],
   "source": [
    "csv_file.close()\n",
    "#json_file.close"
   ]
  },
  {
   "cell_type": "code",
   "execution_count": 332,
   "id": "220ba0e7",
   "metadata": {},
   "outputs": [],
   "source": [
    "#insert train data documents into elasticsearch\n",
    "\n",
    "for d in data:\n",
    "        es.index(index='loan_data', document=d)"
   ]
  },
  {
   "cell_type": "code",
   "execution_count": 315,
   "id": "b76d0ccf",
   "metadata": {},
   "outputs": [
    {
     "name": "stdout",
     "output_type": "stream",
     "text": [
      "{'Loan_ID': 'LP001002', 'Gender': 'Male', 'Married': 'No', 'Dependents': '0', 'Education': 'Graduate', 'Self_Employed': 'No', 'ApplicantIncome': '5849', 'CoapplicantIncome': '0', 'LoanAmount': '', 'Loan_Amount_Term': '360', 'Credit_History': '1', 'Property_Area': 'Urban', 'Loan_Status': 'Y'}\n"
     ]
    }
   ],
   "source": [
    "#get a single document from the new index with its created id\n",
    "res = es.get(index= 'loan_data', id = 'g5HZEowBt7ngq80VFiFj')\n",
    "print(res['_source'])"
   ]
  },
  {
   "cell_type": "code",
   "execution_count": 316,
   "id": "b94c61f4",
   "metadata": {
    "scrolled": true
   },
   "outputs": [
    {
     "name": "stdout",
     "output_type": "stream",
     "text": [
      "{'Loan_ID': 'LP001002', 'Gender': 'Male', 'Married': 'No', 'Dependents': '0', 'Education': 'Graduate', 'Self_Employed': 'No', 'ApplicantIncome': '5849', 'CoapplicantIncome': '0', 'LoanAmount': '', 'Loan_Amount_Term': '360', 'Credit_History': '1', 'Property_Area': 'Urban', 'Loan_Status': 'Y', 'country': 'United States'}\n"
     ]
    }
   ],
   "source": [
    "#update document\n",
    "es.update(index='loan_data', id='g5HZEowBt7ngq80VFiFj', doc={'country':'United States'})\n",
    "res = es.get(index= 'loan_data', id = 'g5HZEowBt7ngq80VFiFj')\n",
    "print(res['_source'])"
   ]
  },
  {
   "cell_type": "code",
   "execution_count": 317,
   "id": "255ca500",
   "metadata": {},
   "outputs": [
    {
     "name": "stdout",
     "output_type": "stream",
     "text": [
      "{'_index': 'loan_data', '_id': 'g5HZEowBt7ngq80VFiFj', '_version': 3, 'result': 'deleted', '_shards': {'total': 2, 'successful': 1, 'failed': 0}, '_seq_no': 615, '_primary_term': 1}\n"
     ]
    }
   ],
   "source": [
    "#delete documnent\n",
    "res = es.delete(index='loan_data', id='g5HZEowBt7ngq80VFiFj')\n",
    "print(res)"
   ]
  },
  {
   "cell_type": "code",
   "execution_count": 318,
   "id": "06d95d05",
   "metadata": {},
   "outputs": [],
   "source": [
    "#search for exact match\n",
    "query_results = es.search(index='loan_data', query={'match':{'Dependents':'2'}})"
   ]
  },
  {
   "cell_type": "code",
   "execution_count": 319,
   "id": "b23b0c99",
   "metadata": {},
   "outputs": [
    {
     "name": "stdout",
     "output_type": "stream",
     "text": [
      "{'took': 16, 'timed_out': False, '_shards': {'total': 1, 'successful': 1, 'skipped': 0, 'failed': 0}, 'hits': {'total': {'value': 101, 'relation': 'eq'}, 'max_score': 1.8015635, 'hits': [{'_index': 'loan_data', '_id': 'iJHZEowBt7ngq80VFiGG', '_score': 1.8015635, '_source': {'Loan_ID': 'LP001011', 'Gender': 'Male', 'Married': 'Yes', 'Dependents': '2', 'Education': 'Graduate', 'Self_Employed': 'Yes', 'ApplicantIncome': '5417', 'CoapplicantIncome': '4196', 'LoanAmount': '267', 'Loan_Amount_Term': '360', 'Credit_History': '1', 'Property_Area': 'Urban', 'Loan_Status': 'Y'}}, {'_index': 'loan_data', '_id': 'i5HZEowBt7ngq80VFiGS', '_score': 1.8015635, '_source': {'Loan_ID': 'LP001018', 'Gender': 'Male', 'Married': 'Yes', 'Dependents': '2', 'Education': 'Graduate', 'Self_Employed': 'No', 'ApplicantIncome': '4006', 'CoapplicantIncome': '1526', 'LoanAmount': '168', 'Loan_Amount_Term': '360', 'Credit_History': '1', 'Property_Area': 'Urban', 'Loan_Status': 'Y'}}, {'_index': 'loan_data', '_id': 'jZHZEowBt7ngq80VFiGY', '_score': 1.8015635, '_source': {'Loan_ID': 'LP001024', 'Gender': 'Male', 'Married': 'Yes', 'Dependents': '2', 'Education': 'Graduate', 'Self_Employed': 'No', 'ApplicantIncome': '3200', 'CoapplicantIncome': '700', 'LoanAmount': '70', 'Loan_Amount_Term': '360', 'Credit_History': '1', 'Property_Area': 'Urban', 'Loan_Status': 'Y'}}, {'_index': 'loan_data', '_id': 'jpHZEowBt7ngq80VFiGa', '_score': 1.8015635, '_source': {'Loan_ID': 'LP001027', 'Gender': 'Male', 'Married': 'Yes', 'Dependents': '2', 'Education': 'Graduate', 'Self_Employed': '', 'ApplicantIncome': '2500', 'CoapplicantIncome': '1840', 'LoanAmount': '109', 'Loan_Amount_Term': '360', 'Credit_History': '1', 'Property_Area': 'Urban', 'Loan_Status': 'Y'}}, {'_index': 'loan_data', '_id': 'j5HZEowBt7ngq80VFiGc', '_score': 1.8015635, '_source': {'Loan_ID': 'LP001028', 'Gender': 'Male', 'Married': 'Yes', 'Dependents': '2', 'Education': 'Graduate', 'Self_Employed': 'No', 'ApplicantIncome': '3073', 'CoapplicantIncome': '8106', 'LoanAmount': '200', 'Loan_Amount_Term': '360', 'Credit_History': '1', 'Property_Area': 'Urban', 'Loan_Status': 'Y'}}, {'_index': 'loan_data', '_id': 'kZHZEowBt7ngq80VFiGg', '_score': 1.8015635, '_source': {'Loan_ID': 'LP001030', 'Gender': 'Male', 'Married': 'Yes', 'Dependents': '2', 'Education': 'Graduate', 'Self_Employed': 'No', 'ApplicantIncome': '1299', 'CoapplicantIncome': '1086', 'LoanAmount': '17', 'Loan_Amount_Term': '120', 'Credit_History': '1', 'Property_Area': 'Urban', 'Loan_Status': 'Y'}}, {'_index': 'loan_data', '_id': 'mpHZEowBt7ngq80VFiG0', '_score': 1.8015635, '_source': {'Loan_ID': 'LP001050', 'Gender': '', 'Married': 'Yes', 'Dependents': '2', 'Education': 'Not Graduate', 'Self_Employed': 'No', 'ApplicantIncome': '3365', 'CoapplicantIncome': '1917', 'LoanAmount': '112', 'Loan_Amount_Term': '360', 'Credit_History': '0', 'Property_Area': 'Rural', 'Loan_Status': 'N'}}, {'_index': 'loan_data', '_id': 'npHZEowBt7ngq80VFiG9', '_score': 1.8015635, '_source': {'Loan_ID': 'LP001073', 'Gender': 'Male', 'Married': 'Yes', 'Dependents': '2', 'Education': 'Not Graduate', 'Self_Employed': 'No', 'ApplicantIncome': '4226', 'CoapplicantIncome': '1040', 'LoanAmount': '110', 'Loan_Amount_Term': '360', 'Credit_History': '1', 'Property_Area': 'Urban', 'Loan_Status': 'Y'}}, {'_index': 'loan_data', '_id': 'oJHZEowBt7ngq80VFiHC', '_score': 1.8015635, '_source': {'Loan_ID': 'LP001087', 'Gender': 'Female', 'Married': 'No', 'Dependents': '2', 'Education': 'Graduate', 'Self_Employed': '', 'ApplicantIncome': '3750', 'CoapplicantIncome': '2083', 'LoanAmount': '120', 'Loan_Amount_Term': '360', 'Credit_History': '1', 'Property_Area': 'Semiurban', 'Loan_Status': 'Y'}}, {'_index': 'loan_data', '_id': 'uJHZEowBt7ngq80VFiHy', '_score': 1.8015635, '_source': {'Loan_ID': 'LP001179', 'Gender': 'Male', 'Married': 'Yes', 'Dependents': '2', 'Education': 'Graduate', 'Self_Employed': 'No', 'ApplicantIncome': '4616', 'CoapplicantIncome': '0', 'LoanAmount': '134', 'Loan_Amount_Term': '360', 'Credit_History': '1', 'Property_Area': 'Urban', 'Loan_Status': 'N'}}]}}\n"
     ]
    }
   ],
   "source": [
    "#to do: make this more readable\n",
    "print(query_results)"
   ]
  },
  {
   "cell_type": "markdown",
   "id": "2e82d78a",
   "metadata": {},
   "source": [
    "#search for income of 5000 or more\n",
    "income_search = es.search(index='loan_data', query={'regexp':{'ApplicantIncome':'[5-9]\\d{3,}|[1-9]\\d{4,}'}})"
   ]
  },
  {
   "cell_type": "code",
   "execution_count": 321,
   "id": "c3c18a22",
   "metadata": {},
   "outputs": [
    {
     "data": {
      "text/plain": [
       "dict"
      ]
     },
     "execution_count": 321,
     "metadata": {},
     "output_type": "execute_result"
    }
   ],
   "source": [
    "type(income_search.body)"
   ]
  },
  {
   "cell_type": "code",
   "execution_count": 322,
   "id": "41b34db0",
   "metadata": {},
   "outputs": [
    {
     "name": "stdout",
     "output_type": "stream",
     "text": [
      "{'took': 6, 'timed_out': False, '_shards': {'total': 1, 'successful': 1, 'skipped': 0, 'failed': 0}, 'hits': {'total': {'value': 195, 'relation': 'eq'}, 'max_score': 1.0, 'hits': [{'_index': 'loan_data', '_id': '3Xpn3osBNr2pREXOCEA5', '_score': 1.0, '_source': {'Loan_ID': 'LP001008', 'Gender': 'Male', 'Married': 'No', 'Dependents': '0', 'Education': 'Graduate', 'Self_Employed': 'No', 'ApplicantIncome': '6000', 'CoapplicantIncome': '0', 'LoanAmount': '141', 'Loan_Amount_Term': '360', 'Credit_History': '1', 'Property_Area': 'Urban', 'Loan_Status': 'Y'}}, {'_index': 'loan_data', '_id': '3npn3osBNr2pREXOCEA8', '_score': 1.0, '_source': {'Loan_ID': 'LP001011', 'Gender': 'Male', 'Married': 'Yes', 'Dependents': '2', 'Education': 'Graduate', 'Self_Employed': 'Yes', 'ApplicantIncome': '5417', 'CoapplicantIncome': '4196', 'LoanAmount': '267', 'Loan_Amount_Term': '360', 'Credit_History': '1', 'Property_Area': 'Urban', 'Loan_Status': 'Y'}}, {'_index': 'loan_data', '_id': '4npn3osBNr2pREXOCEBM', '_score': 1.0, '_source': {'Loan_ID': 'LP001020', 'Gender': 'Male', 'Married': 'Yes', 'Dependents': '1', 'Education': 'Graduate', 'Self_Employed': 'No', 'ApplicantIncome': '12841', 'CoapplicantIncome': '10968', 'LoanAmount': '349', 'Loan_Amount_Term': '360', 'Credit_History': '1', 'Property_Area': 'Semiurban', 'Loan_Status': 'N'}}, {'_index': 'loan_data', '_id': '7Xpn3osBNr2pREXOCEBz', '_score': 1.0, '_source': {'Loan_ID': 'LP001043', 'Gender': 'Male', 'Married': 'Yes', 'Dependents': '0', 'Education': 'Not Graduate', 'Self_Employed': 'No', 'ApplicantIncome': '7660', 'CoapplicantIncome': '0', 'LoanAmount': '104', 'Loan_Amount_Term': '360', 'Credit_History': '0', 'Property_Area': 'Urban', 'Loan_Status': 'N'}}, {'_index': 'loan_data', '_id': '7npn3osBNr2pREXOCEB2', '_score': 1.0, '_source': {'Loan_ID': 'LP001046', 'Gender': 'Male', 'Married': 'Yes', 'Dependents': '1', 'Education': 'Graduate', 'Self_Employed': 'No', 'ApplicantIncome': '5955', 'CoapplicantIncome': '5625', 'LoanAmount': '315', 'Loan_Amount_Term': '360', 'Credit_History': '1', 'Property_Area': 'Urban', 'Loan_Status': 'Y'}}, {'_index': 'loan_data', '_id': '8npn3osBNr2pREXOCECC', '_score': 1.0, '_source': {'Loan_ID': 'LP001066', 'Gender': 'Male', 'Married': 'Yes', 'Dependents': '0', 'Education': 'Graduate', 'Self_Employed': 'Yes', 'ApplicantIncome': '9560', 'CoapplicantIncome': '0', 'LoanAmount': '191', 'Loan_Amount_Term': '360', 'Credit_History': '1', 'Property_Area': 'Semiurban', 'Loan_Status': 'Y'}}, {'_index': 'loan_data', '_id': '-3pn3osBNr2pREXOCECc', '_score': 1.0, '_source': {'Loan_ID': 'LP001100', 'Gender': 'Male', 'Married': 'No', 'Dependents': '3+', 'Education': 'Graduate', 'Self_Employed': 'No', 'ApplicantIncome': '12500', 'CoapplicantIncome': '3000', 'LoanAmount': '320', 'Loan_Amount_Term': '360', 'Credit_History': '1', 'Property_Area': 'Rural', 'Loan_Status': 'N'}}, {'_index': 'loan_data', '_id': 'B3pn3osBNr2pREXOCEHD', '_score': 1.0, '_source': {'Loan_ID': 'LP001138', 'Gender': 'Male', 'Married': 'Yes', 'Dependents': '1', 'Education': 'Graduate', 'Self_Employed': 'No', 'ApplicantIncome': '5649', 'CoapplicantIncome': '0', 'LoanAmount': '44', 'Loan_Amount_Term': '360', 'Credit_History': '1', 'Property_Area': 'Urban', 'Loan_Status': 'Y'}}, {'_index': 'loan_data', '_id': 'CHpn3osBNr2pREXOCEHH', '_score': 1.0, '_source': {'Loan_ID': 'LP001144', 'Gender': 'Male', 'Married': 'Yes', 'Dependents': '0', 'Education': 'Graduate', 'Self_Employed': 'No', 'ApplicantIncome': '5821', 'CoapplicantIncome': '0', 'LoanAmount': '144', 'Loan_Amount_Term': '360', 'Credit_History': '1', 'Property_Area': 'Urban', 'Loan_Status': 'Y'}}, {'_index': 'loan_data', '_id': 'D3pn3osBNr2pREXOCEHc', '_score': 1.0, '_source': {'Loan_ID': 'LP001186', 'Gender': 'Female', 'Married': 'Yes', 'Dependents': '1', 'Education': 'Graduate', 'Self_Employed': 'Yes', 'ApplicantIncome': '11500', 'CoapplicantIncome': '0', 'LoanAmount': '286', 'Loan_Amount_Term': '360', 'Credit_History': '0', 'Property_Area': 'Urban', 'Loan_Status': 'N'}}]}}\n"
     ]
    }
   ],
   "source": [
    "print(income_search.body)"
   ]
  },
  {
   "cell_type": "code",
   "execution_count": 323,
   "id": "8481341d",
   "metadata": {},
   "outputs": [],
   "source": [
    "res_hits = income_search['hits']['hits']"
   ]
  },
  {
   "cell_type": "code",
   "execution_count": 324,
   "id": "c6bfe7c6",
   "metadata": {},
   "outputs": [
    {
     "name": "stdout",
     "output_type": "stream",
     "text": [
      "\n",
      " 0 -- 6000\n",
      "\n",
      " 1 -- 5417\n",
      "\n",
      " 2 -- 12841\n",
      "\n",
      " 3 -- 7660\n",
      "\n",
      " 4 -- 5955\n",
      "\n",
      " 5 -- 9560\n",
      "\n",
      " 6 -- 12500\n",
      "\n",
      " 7 -- 5649\n",
      "\n",
      " 8 -- 5821\n",
      "\n",
      " 9 -- 11500\n"
     ]
    }
   ],
   "source": [
    "#print out returned income amounts\n",
    "for num, doc in enumerate(res_hits):\n",
    "    print ('\\n', num, '--', doc['_source']['ApplicantIncome'])\n"
   ]
  },
  {
   "cell_type": "code",
   "execution_count": null,
   "id": "69e5a1b2",
   "metadata": {},
   "outputs": [],
   "source": []
  }
 ],
 "metadata": {
  "kernelspec": {
   "display_name": "Python 3 (ipykernel)",
   "language": "python",
   "name": "python3"
  },
  "language_info": {
   "codemirror_mode": {
    "name": "ipython",
    "version": 3
   },
   "file_extension": ".py",
   "mimetype": "text/x-python",
   "name": "python",
   "nbconvert_exporter": "python",
   "pygments_lexer": "ipython3",
   "version": "3.11.3"
  }
 },
 "nbformat": 4,
 "nbformat_minor": 5
}
